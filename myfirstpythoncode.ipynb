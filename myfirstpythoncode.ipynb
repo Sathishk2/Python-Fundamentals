{
  "nbformat": 4,
  "nbformat_minor": 0,
  "metadata": {
    "colab": {
      "provenance": [],
      "authorship_tag": "ABX9TyOMeZDMoKBq5Mra2U6rBVG9",
      "include_colab_link": true
    },
    "kernelspec": {
      "name": "python3",
      "display_name": "Python 3"
    },
    "language_info": {
      "name": "python"
    }
  },
  "cells": [
    {
      "cell_type": "markdown",
      "metadata": {
        "id": "view-in-github",
        "colab_type": "text"
      },
      "source": [
        "<a href=\"https://colab.research.google.com/github/Sathishk2/Python-Fundamentals/blob/main/myfirstpythoncode.ipynb\" target=\"_parent\"><img src=\"https://colab.research.google.com/assets/colab-badge.svg\" alt=\"Open In Colab\"/></a>"
      ]
    },
    {
      "cell_type": "markdown",
      "source": [
        "Topic 1: Datatypes\n",
        "#Topic 1"
      ],
      "metadata": {
        "id": "U4Lfuh23maPf"
      }
    },
    {
      "cell_type": "code",
      "execution_count": null,
      "metadata": {
        "colab": {
          "base_uri": "https://localhost:8080/"
        },
        "id": "ldc1IWySkrkh",
        "outputId": "ee54a1ed-e5ec-4874-c7c9-c811dd7f555d"
      },
      "outputs": [
        {
          "output_type": "stream",
          "name": "stdout",
          "text": [
            "Hello World!\n"
          ]
        }
      ],
      "source": [
        "print(\"Hello World!\") #output a message to the monitor\n",
        "#print is a built-in function of python to output a custom message."
      ]
    },
    {
      "cell_type": "markdown",
      "source": [
        "#activity: Python Script"
      ],
      "metadata": {
        "id": "6-p3_4LToM17"
      }
    },
    {
      "cell_type": "code",
      "source": [
        "x=2 #store the value of 2 in a variable x\n",
        "y=3\n",
        "sum=x+y\n",
        "print(sum)"
      ],
      "metadata": {
        "colab": {
          "base_uri": "https://localhost:8080/"
        },
        "id": "i9BQdf9XnyBs",
        "outputId": "cb8f348e-2a48-4294-a21f-a67da769259c"
      },
      "execution_count": null,
      "outputs": [
        {
          "output_type": "stream",
          "name": "stdout",
          "text": [
            "5\n"
          ]
        }
      ]
    },
    {
      "cell_type": "markdown",
      "source": [
        "#Topic 2: datatypes"
      ],
      "metadata": {
        "id": "LKbpMHu8pKnd"
      }
    },
    {
      "cell_type": "markdown",
      "source": [
        "Numbers"
      ],
      "metadata": {
        "id": "VdinFCgqpQtz"
      }
    },
    {
      "cell_type": "code",
      "source": [
        "x=1\n",
        "print(x)\n",
        "type(x)"
      ],
      "metadata": {
        "colab": {
          "base_uri": "https://localhost:8080/"
        },
        "id": "PSLPwWRNn7Yz",
        "outputId": "3012c134-4820-4e90-d63a-eb644db57cef"
      },
      "execution_count": null,
      "outputs": [
        {
          "output_type": "stream",
          "name": "stdout",
          "text": [
            "1\n"
          ]
        },
        {
          "output_type": "execute_result",
          "data": {
            "text/plain": [
              "int"
            ]
          },
          "metadata": {},
          "execution_count": 8
        }
      ]
    },
    {
      "cell_type": "code",
      "source": [
        "x=x+1.1\n",
        "print(x)\n",
        "type(x)"
      ],
      "metadata": {
        "colab": {
          "base_uri": "https://localhost:8080/"
        },
        "id": "mSshDLLbprBE",
        "outputId": "cdff939d-58e7-4f0d-9eeb-cb019b4b0dcf"
      },
      "execution_count": null,
      "outputs": [
        {
          "output_type": "stream",
          "name": "stdout",
          "text": [
            "2.1\n"
          ]
        },
        {
          "output_type": "execute_result",
          "data": {
            "text/plain": [
              "float"
            ]
          },
          "metadata": {},
          "execution_count": 9
        }
      ]
    },
    {
      "cell_type": "code",
      "source": [
        "num=8\n",
        "  num_sq=num**2\n",
        "print(num_sq)"
      ],
      "metadata": {
        "colab": {
          "base_uri": "https://localhost:8080/",
          "height": 130
        },
        "id": "YLDwovQkp1ZK",
        "outputId": "9890767f-1fe7-4f46-d268-543db41c853f"
      },
      "execution_count": null,
      "outputs": [
        {
          "output_type": "error",
          "ename": "IndentationError",
          "evalue": "ignored",
          "traceback": [
            "\u001b[0;36m  File \u001b[0;32m\"<ipython-input-11-d50908a0b62a>\"\u001b[0;36m, line \u001b[0;32m2\u001b[0m\n\u001b[0;31m    num_sq=num**2\u001b[0m\n\u001b[0m    ^\u001b[0m\n\u001b[0;31mIndentationError\u001b[0m\u001b[0;31m:\u001b[0m unexpected indent\n"
          ]
        }
      ]
    },
    {
      "cell_type": "code",
      "source": [
        "num=8\n",
        "num_sq=num**2\n",
        "print(num_sq)"
      ],
      "metadata": {
        "colab": {
          "base_uri": "https://localhost:8080/"
        },
        "id": "2k6e4HLqqhZ_",
        "outputId": "a64a6f97-3f3b-46d6-8c70-7aede439e8ef"
      },
      "execution_count": null,
      "outputs": [
        {
          "output_type": "stream",
          "name": "stdout",
          "text": [
            "64\n"
          ]
        }
      ]
    },
    {
      "cell_type": "code",
      "source": [
        "a,b=1,2\n",
        "a,b=b,a+b\n",
        "print('a=',a)\n",
        "print('b=',b)"
      ],
      "metadata": {
        "id": "oB7Dd2_9ro4z"
      },
      "execution_count": null,
      "outputs": []
    },
    {
      "cell_type": "markdown",
      "source": [
        "1. format using the 'format method'"
      ],
      "metadata": {
        "id": "Rb97MTI6wXto"
      }
    },
    {
      "cell_type": "code",
      "source": [
        "#to print in a formatted way\n",
        "a=1\n",
        "b=2\n",
        "print(\"{}+{}={}\".format(a,b,a+b)) #print"
      ],
      "metadata": {
        "colab": {
          "base_uri": "https://localhost:8080/"
        },
        "id": "jKTuVxccsZZt",
        "outputId": "1926e140-f20b-4d65-f46e-d75efddfab0b"
      },
      "execution_count": null,
      "outputs": [
        {
          "output_type": "stream",
          "name": "stdout",
          "text": [
            "1+2=3\n"
          ]
        }
      ]
    },
    {
      "cell_type": "code",
      "source": [
        "#to format the decimal places\n",
        "a=1.222\n",
        "b=2.333\n",
        "print(\"{:0.1f}+{:0.1f}={:0.1f}\".format(a,b,a+b))"
      ],
      "metadata": {
        "colab": {
          "base_uri": "https://localhost:8080/"
        },
        "id": "S7MrxIGHtM5d",
        "outputId": "2bb7dbe9-ffb6-4771-d517-8b4d7e508d8c"
      },
      "execution_count": null,
      "outputs": [
        {
          "output_type": "stream",
          "name": "stdout",
          "text": [
            "1.2+2.3=3.6\n"
          ]
        }
      ]
    },
    {
      "cell_type": "code",
      "source": [
        "#to arrange the location\n",
        "a=1.222\n",
        "b=2.333\n",
        "print(f\"{1:0.1f}+{0:0.1f}={a+b:0.1f}\")"
      ],
      "metadata": {
        "colab": {
          "base_uri": "https://localhost:8080/"
        },
        "id": "_qhMuE7ZuMMS",
        "outputId": "6d95ed30-40ea-46d7-e010-973b3b455a0a"
      },
      "execution_count": null,
      "outputs": [
        {
          "output_type": "stream",
          "name": "stdout",
          "text": [
            "1.0+0.0=3.6\n"
          ]
        }
      ]
    },
    {
      "cell_type": "markdown",
      "source": [
        "2. format using string literal"
      ],
      "metadata": {
        "id": "7rbK-E_0wiMJ"
      }
    },
    {
      "cell_type": "code",
      "source": [
        "#to print in a formatted way\n",
        "a=1\n",
        "b=2\n",
        "print(f\"{a}+{b}={a+b}\")"
      ],
      "metadata": {
        "colab": {
          "base_uri": "https://localhost:8080/"
        },
        "id": "zKxyZhPLwk4d",
        "outputId": "7357cdd5-23d7-4fcf-8943-42c24cc30605"
      },
      "execution_count": null,
      "outputs": [
        {
          "output_type": "stream",
          "name": "stdout",
          "text": [
            "1+2=3\n"
          ]
        }
      ]
    },
    {
      "cell_type": "code",
      "source": [
        "#to format the decimal places\n",
        "a=1.222\n",
        "b=2.333\n",
        "print(f\"{a:0.1f}+{b:0.1f}={a+b:0.1f}\")"
      ],
      "metadata": {
        "colab": {
          "base_uri": "https://localhost:8080/"
        },
        "id": "2y66jB5Tw8Ie",
        "outputId": "9064af64-c22e-4dca-9778-ed8e40790703"
      },
      "execution_count": null,
      "outputs": [
        {
          "output_type": "stream",
          "name": "stdout",
          "text": [
            "1.2+2.3=3.6\n"
          ]
        }
      ]
    },
    {
      "cell_type": "code",
      "source": [
        "#to arrange the location\n",
        "a=1.222\n",
        "b=2.333\n",
        "print(f\"{b:0.1f}+{a:0.1f}={a+b:0.1f}\")"
      ],
      "metadata": {
        "colab": {
          "base_uri": "https://localhost:8080/"
        },
        "id": "0bsBJjAvxorQ",
        "outputId": "2acb25b0-335d-4dcc-b13b-4006158235fb"
      },
      "execution_count": null,
      "outputs": [
        {
          "output_type": "stream",
          "name": "stdout",
          "text": [
            "2.3+1.2=3.6\n"
          ]
        }
      ]
    },
    {
      "cell_type": "code",
      "source": [
        "a=4.444\n",
        "b=5.555\n",
        "c=6.6666\n",
        "d=a+b+c\n",
        "print(f\"{b:0.2f}+{c:0.2f}+{a:0.1f}={d:0.0f}\")"
      ],
      "metadata": {
        "colab": {
          "base_uri": "https://localhost:8080/"
        },
        "id": "PlYKF6BgxzXy",
        "outputId": "e40cad4c-9a4c-4e6a-cd4e-1974aa6433d4"
      },
      "execution_count": null,
      "outputs": [
        {
          "output_type": "stream",
          "name": "stdout",
          "text": [
            "5.55+6.67+4.4=17\n"
          ]
        }
      ]
    }
  ]
}