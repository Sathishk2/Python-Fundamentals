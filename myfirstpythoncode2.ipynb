{
  "nbformat": 4,
  "nbformat_minor": 0,
  "metadata": {
    "colab": {
      "provenance": [],
      "authorship_tag": "ABX9TyNZEi/O6MHbnetLsHqgvqZn",
      "include_colab_link": true
    },
    "kernelspec": {
      "name": "python3",
      "display_name": "Python 3"
    },
    "language_info": {
      "name": "python"
    }
  },
  "cells": [
    {
      "cell_type": "markdown",
      "metadata": {
        "id": "view-in-github",
        "colab_type": "text"
      },
      "source": [
        "<a href=\"https://colab.research.google.com/github/Sathishk2/Python-Fundamentals/blob/main/myfirstpythoncode2.ipynb\" target=\"_parent\"><img src=\"https://colab.research.google.com/assets/colab-badge.svg\" alt=\"Open In Colab\"/></a>"
      ]
    },
    {
      "cell_type": "markdown",
      "source": [
        "String"
      ],
      "metadata": {
        "id": "-Un-oLKm5Fww"
      }
    },
    {
      "cell_type": "code",
      "execution_count": null,
      "metadata": {
        "colab": {
          "base_uri": "https://localhost:8080/"
        },
        "id": "2NSILDRI441T",
        "outputId": "f063a9c3-b549-49d6-8cdc-5709ebdf7978"
      },
      "outputs": [
        {
          "output_type": "stream",
          "name": "stdout",
          "text": [
            "helloworld\n"
          ]
        }
      ],
      "source": [
        "a=\"hello\"\n",
        "b=\"world\"\n",
        "print(a+b)"
      ]
    },
    {
      "cell_type": "code",
      "source": [
        "a=\"the GST is 7%\"\n",
        "b=a.replace(\"GST\",\"good and service tax\")\n",
        "print(b)"
      ],
      "metadata": {
        "id": "9mipmEYk478K"
      },
      "execution_count": null,
      "outputs": []
    },
    {
      "cell_type": "code",
      "source": [
        "txt = \"hello, and welcome to my world.\"\n",
        "\n",
        "x = txt.capitalize()\n",
        "\n",
        "print (x)"
      ],
      "metadata": {
        "colab": {
          "base_uri": "https://localhost:8080/"
        },
        "id": "VvTgQBiw5GZm",
        "outputId": "74a2ba98-8e8c-4353-fb5f-65f352d53f39"
      },
      "execution_count": null,
      "outputs": [
        {
          "output_type": "stream",
          "name": "stdout",
          "text": [
            "Hello, and welcome to my world.\n"
          ]
        }
      ]
    },
    {
      "cell_type": "markdown",
      "source": [
        "Activity : Format String"
      ],
      "metadata": {
        "id": "QAYPyc2R6s07"
      }
    },
    {
      "cell_type": "code",
      "source": [
        "cs='balance sheet'\n",
        "income='income statement'\n",
        "print(f\"The finance statements typically require {cs.capitalize()} and {income.upper()}\")"
      ],
      "metadata": {
        "colab": {
          "base_uri": "https://localhost:8080/"
        },
        "id": "omOO6i_j6vTd",
        "outputId": "a060c2e6-b1aa-42a3-f044-9c7ec87d7030"
      },
      "execution_count": null,
      "outputs": [
        {
          "output_type": "stream",
          "name": "stdout",
          "text": [
            "The finance statements typically require Balance sheet and INCOME STATEMENT\n"
          ]
        }
      ]
    },
    {
      "cell_type": "code",
      "source": [
        "a='   Hello'.strip()\n",
        "b=' World'\n",
        "print(a+b)"
      ],
      "metadata": {
        "colab": {
          "base_uri": "https://localhost:8080/"
        },
        "id": "Qybeeh7G7fYR",
        "outputId": "cb0af1e7-910e-4ccd-c6bf-d77dd7abd143"
      },
      "execution_count": null,
      "outputs": [
        {
          "output_type": "stream",
          "name": "stdout",
          "text": [
            "Hello World\n"
          ]
        }
      ]
    },
    {
      "cell_type": "code",
      "source": [
        "a='Asset is the sum of liability and equity.'\n",
        "b=a.split()\n",
        "print(b)\n",
        "\n",
        "a='Asset = Liability + Equity'\n",
        "b=a.split(\"=\")\n",
        "print(b)\n",
        "\n",
        "c=\" = \".join(b)\n",
        "print(c)"
      ],
      "metadata": {
        "colab": {
          "base_uri": "https://localhost:8080/"
        },
        "id": "Xl7vSDdR93uf",
        "outputId": "d89fa756-e948-42c7-ce7e-72a2d0d03602"
      },
      "execution_count": null,
      "outputs": [
        {
          "output_type": "stream",
          "name": "stdout",
          "text": [
            "['Asset', 'is', 'the', 'sum', 'of', 'liability', 'and', 'equity.']\n",
            "['Asset ', ' Liability + Equity']\n",
            "Asset  =  Liability + Equity\n"
          ]
        }
      ]
    },
    {
      "cell_type": "code",
      "source": [
        "a='finance@company.com'\n",
        "b=a.split(\"@\")\n",
        "print(b)\n",
        "\n",
        "c=\"/\".join(b)\n",
        "print(c)"
      ],
      "metadata": {
        "colab": {
          "base_uri": "https://localhost:8080/"
        },
        "id": "P3UQTvi0_Xyh",
        "outputId": "6759fa88-98b3-4a7d-ecbe-08092f556409"
      },
      "execution_count": null,
      "outputs": [
        {
          "output_type": "stream",
          "name": "stdout",
          "text": [
            "['finance', 'company.com']\n",
            "finance/company.com\n"
          ]
        }
      ]
    },
    {
      "cell_type": "markdown",
      "source": [
        "List"
      ],
      "metadata": {
        "id": "fH3nXUOOV92j"
      }
    },
    {
      "cell_type": "code",
      "source": [
        "new_list = []\n",
        "print(new_list)\n",
        "type(new_list)\n",
        "\n",
        "new_list=[10,20,30,40]\n",
        "print (new_list)\n",
        "type(new_list)\n",
        "\n",
        "new_list=[10,20.2,'thirty', 40]\n",
        "print(new_list)\n",
        "type(new_list)\n",
        "\n",
        "new_list=[[10,20,30],[10.1,20.2,30.3],[\"ten\",\"twenty\",\"thirty\"]]\n",
        "print(new_list)\n",
        "type(new_list)\n",
        "\n",
        "new_list=[10,[20.2,[\"thirty\",[40]]]]\n",
        "print(new_list)\n",
        "type(new_list)"
      ],
      "metadata": {
        "colab": {
          "base_uri": "https://localhost:8080/"
        },
        "id": "MgDd5P_xCG9P",
        "outputId": "dba9a2ef-ec66-4051-e5ab-95990f061dc8"
      },
      "execution_count": null,
      "outputs": [
        {
          "output_type": "stream",
          "name": "stdout",
          "text": [
            "[]\n",
            "[10, 20, 30, 40]\n",
            "[10, 20.2, 'thirty', 40]\n",
            "[[10, 20, 30], [10.1, 20.2, 30.3], ['ten', 'twenty', 'thirty']]\n",
            "[10, [20.2, ['thirty', [40]]]]\n"
          ]
        },
        {
          "output_type": "execute_result",
          "data": {
            "text/plain": [
              "list"
            ]
          },
          "metadata": {},
          "execution_count": 2
        }
      ]
    },
    {
      "cell_type": "markdown",
      "source": [
        "Slicing List"
      ],
      "metadata": {
        "id": "UGFsfS2aWG8P"
      }
    },
    {
      "cell_type": "code",
      "source": [
        "a=['equity','liability','asset','expense','income']\n",
        "b=a.copy() #copies the list\n",
        "b.pop()\n",
        "a\n",
        "\n",
        "c=a #preserves the list\n",
        "c.pop()\n",
        "a"
      ],
      "metadata": {
        "colab": {
          "base_uri": "https://localhost:8080/"
        },
        "id": "5hKVUwrebp-Y",
        "outputId": "7378279f-d5e4-4b4c-d8bc-30fc4aab0bcc"
      },
      "execution_count": null,
      "outputs": [
        {
          "output_type": "execute_result",
          "data": {
            "text/plain": [
              "['equity', 'liability', 'asset', 'expense']"
            ]
          },
          "metadata": {},
          "execution_count": 5
        }
      ]
    },
    {
      "cell_type": "code",
      "source": [
        "years=['2017','2018','2020','2021']\n",
        "years2=years.copy()\n",
        "\n",
        "years2.pop()\n",
        "\n",
        "years2.insert(2,'2019')\n",
        "\n",
        "years2.reverse()\n",
        "years2"
      ],
      "metadata": {
        "colab": {
          "base_uri": "https://localhost:8080/"
        },
        "id": "itXwz0UkcB8g",
        "outputId": "1665a9fa-0d39-443b-e833-394424278dd5"
      },
      "execution_count": null,
      "outputs": [
        {
          "output_type": "execute_result",
          "data": {
            "text/plain": [
              "['2020', '2019', '2018', '2017']"
            ]
          },
          "metadata": {},
          "execution_count": 8
        }
      ]
    },
    {
      "cell_type": "markdown",
      "source": [
        "Dictionary"
      ],
      "metadata": {
        "id": "PS0Hyv93mHBi"
      }
    },
    {
      "cell_type": "code",
      "source": [
        "#printing multiple values of various keys\n",
        "\n",
        "revenue = {'2017':'1.3M', '2018':'2.2M','2019':'3.5M'}\n",
        "revenue['2017'],revenue['2019']"
      ],
      "metadata": {
        "colab": {
          "base_uri": "https://localhost:8080/"
        },
        "id": "FKP1Y3bIdMnq",
        "outputId": "2732ff3e-ff86-42d6-90f8-eab8f17092f9"
      },
      "execution_count": null,
      "outputs": [
        {
          "output_type": "execute_result",
          "data": {
            "text/plain": [
              "('1.3M', '3.5M')"
            ]
          },
          "metadata": {},
          "execution_count": 9
        }
      ]
    },
    {
      "cell_type": "markdown",
      "source": [
        "Union"
      ],
      "metadata": {
        "id": "x5EUTUT0ofuM"
      }
    },
    {
      "cell_type": "code",
      "source": [
        "a={'equity','liability','asset'}\n",
        "b={'asset','expense','income'}\n",
        "a.union(b)"
      ],
      "metadata": {
        "colab": {
          "base_uri": "https://localhost:8080/"
        },
        "id": "Qe_hlChymnvb",
        "outputId": "648fb2c7-ecf6-41e2-8aac-8bfc6ee70b8a"
      },
      "execution_count": null,
      "outputs": [
        {
          "output_type": "execute_result",
          "data": {
            "text/plain": [
              "{'asset', 'equity', 'expense', 'income', 'liability'}"
            ]
          },
          "metadata": {},
          "execution_count": 10
        }
      ]
    },
    {
      "cell_type": "code",
      "source": [
        "a={'equity','liability','asset'}\n",
        "b={'asset','expense','income'}\n",
        "a.intersection(b)"
      ],
      "metadata": {
        "colab": {
          "base_uri": "https://localhost:8080/"
        },
        "id": "fQ47qJSzouDe",
        "outputId": "1b1fb316-9825-4e59-eb0c-c9729ea44ee9"
      },
      "execution_count": null,
      "outputs": [
        {
          "output_type": "execute_result",
          "data": {
            "text/plain": [
              "{'asset'}"
            ]
          },
          "metadata": {},
          "execution_count": 11
        }
      ]
    },
    {
      "cell_type": "markdown",
      "source": [
        "Activity:Set"
      ],
      "metadata": {
        "id": "U0gEgl5hqXTb"
      }
    },
    {
      "cell_type": "code",
      "source": [
        "sent='a budget is a unique'\n",
        "vocab=sent.split(\" \")\n",
        "print(vocab)\n",
        "words=set(vocab)\n",
        "print(words)"
      ],
      "metadata": {
        "colab": {
          "base_uri": "https://localhost:8080/"
        },
        "id": "26GH5fYMpY_4",
        "outputId": "17a39982-0929-462a-b49c-d174030c9e32"
      },
      "execution_count": null,
      "outputs": [
        {
          "output_type": "stream",
          "name": "stdout",
          "text": [
            "['a', 'budget', 'is', 'a', 'unique']\n",
            "{'unique', 'budget', 'a', 'is'}\n"
          ]
        }
      ]
    },
    {
      "cell_type": "markdown",
      "source": [
        "Activity:operator"
      ],
      "metadata": {
        "id": "pObnPaa_v0wp"
      }
    },
    {
      "cell_type": "code",
      "source": [
        "a=1\n",
        "b=2\n",
        "print((a==1) and not (b>3))"
      ],
      "metadata": {
        "colab": {
          "base_uri": "https://localhost:8080/"
        },
        "id": "yGzo1-KGq0JR",
        "outputId": "7fbb1150-6732-4dd5-dcf2-f78f070edbf6"
      },
      "execution_count": null,
      "outputs": [
        {
          "output_type": "stream",
          "name": "stdout",
          "text": [
            "True\n"
          ]
        }
      ]
    },
    {
      "cell_type": "markdown",
      "source": [
        "If-Elif Example"
      ],
      "metadata": {
        "id": "P6KhXeSkxl3u"
      }
    },
    {
      "cell_type": "code",
      "source": [
        "stock_price_ABC = 299 #Variable value\n",
        "\n",
        "if (stock_price_ABC < 300): #if condition_1 is true then... statement_block_1 will be executed\n",
        "  print(\"We will buy 500 shares of ABC\")\n",
        "\n",
        "elif(stock_price_ABC == 300):\n",
        "  print(\"we will buy 200 shares of ABC\")\n",
        "\n",
        "elif(stock_price_ABC > 300):\n",
        "  print(\"We will buy 150 shares of ABC\")"
      ],
      "metadata": {
        "colab": {
          "base_uri": "https://localhost:8080/"
        },
        "id": "C1mMebCNwHMm",
        "outputId": "1fcc03b9-c6d8-4136-be0d-4577aa209f6f"
      },
      "execution_count": null,
      "outputs": [
        {
          "output_type": "stream",
          "name": "stdout",
          "text": [
            "We will buy 500 shares of ABC\n"
          ]
        }
      ]
    },
    {
      "cell_type": "code",
      "source": [
        "stock_price_ABC = 300 #Variable value\n",
        "\n",
        "if (stock_price_ABC < 300): #if condition_1 is true then... statement_block_1 will be executed\n",
        "  print(\"We will buy 500 shares of ABC\")\n",
        "\n",
        "elif(stock_price_ABC == 300): #if condition_2 is true then... statement_block_2 will be executed\n",
        "  print(\"we will buy 200 shares of ABC\")\n",
        "\n",
        "elif(stock_price_ABC > 300):\n",
        "  print(\"We will buy 150 shares of ABC\")"
      ],
      "metadata": {
        "colab": {
          "base_uri": "https://localhost:8080/"
        },
        "id": "1EXyrv-WyPv_",
        "outputId": "755eee13-efb8-4ac5-8942-1e784c3fc249"
      },
      "execution_count": null,
      "outputs": [
        {
          "output_type": "stream",
          "name": "stdout",
          "text": [
            "we will buy 200 shares of ABC\n"
          ]
        }
      ]
    },
    {
      "cell_type": "code",
      "source": [
        "stock_price_ABC = 300\n",
        "\n",
        "if (stock_price_ABC > 250):\n",
        "  print(\"We will sell the stock and book the profit\")\n",
        "\n",
        "else:\n",
        "  print(\"we will keep buying the stock\")"
      ],
      "metadata": {
        "colab": {
          "base_uri": "https://localhost:8080/"
        },
        "id": "MahqCAX4zH2l",
        "outputId": "2e607d49-f0c6-4f3f-9abe-6aabaccde3f9"
      },
      "execution_count": null,
      "outputs": [
        {
          "output_type": "stream",
          "name": "stdout",
          "text": [
            "We will sell the stock and book the profit\n"
          ]
        }
      ]
    },
    {
      "cell_type": "markdown",
      "source": [
        "Ternary Operator (shortened ifElse statement)"
      ],
      "metadata": {
        "id": "0rQslRCp2CoH"
      }
    },
    {
      "cell_type": "code",
      "source": [
        "order_total=150\n",
        "print(\"discount is 25%\") if order_total > 100 else print (\"no discount\")"
      ],
      "metadata": {
        "colab": {
          "base_uri": "https://localhost:8080/"
        },
        "id": "eePaqtx90Iqm",
        "outputId": "554c336a-f2c4-4528-b244-743540069328"
      },
      "execution_count": null,
      "outputs": [
        {
          "output_type": "stream",
          "name": "stdout",
          "text": [
            "discount is 25%\n"
          ]
        }
      ]
    },
    {
      "cell_type": "markdown",
      "source": [
        "While Loop Example"
      ],
      "metadata": {
        "id": "8gJxlY5e2tZ2"
      }
    },
    {
      "cell_type": "code",
      "source": [
        "a=0 #Variable\n",
        "\n",
        "while a<=10:\n",
        "  a=a+1\n",
        "  print(a)\n",
        "print(\"we are now out of the loop\")"
      ],
      "metadata": {
        "colab": {
          "base_uri": "https://localhost:8080/"
        },
        "id": "VJxYXJFm2O6T",
        "outputId": "9b6cd803-8b10-45d1-eec0-2b71120f89d2"
      },
      "execution_count": null,
      "outputs": [
        {
          "output_type": "stream",
          "name": "stdout",
          "text": [
            "1\n",
            "2\n",
            "3\n",
            "4\n",
            "5\n",
            "6\n",
            "7\n",
            "8\n",
            "9\n",
            "10\n",
            "11\n",
            "we are now out of the loop\n"
          ]
        }
      ]
    },
    {
      "cell_type": "markdown",
      "source": [
        "Fibonacci - Golden Ratio"
      ],
      "metadata": {
        "id": "h-rE83rO4w5-"
      }
    },
    {
      "cell_type": "code",
      "source": [
        "a,b=0,1\n",
        "fib=[]\n",
        "g_ratio=[]\n",
        "while b<100:\n",
        "  a,b=b,b+a #multiple assignment\n",
        "  fib.append(b)\n",
        "  g_ratio.append(round(b/a,3))\n",
        "print(fib)\n",
        "print(g_ratio)"
      ],
      "metadata": {
        "colab": {
          "base_uri": "https://localhost:8080/"
        },
        "id": "Ip2xzh8C4vVP",
        "outputId": "d43c00c2-5f35-43da-83fa-97a0a54f68b9"
      },
      "execution_count": null,
      "outputs": [
        {
          "output_type": "stream",
          "name": "stdout",
          "text": [
            "[1, 2, 3, 5, 8, 13, 21, 34, 55, 89, 144]\n",
            "[1.0, 2.0, 1.5, 1.667, 1.6, 1.625, 1.615, 1.619, 1.618, 1.618, 1.618]\n"
          ]
        }
      ]
    },
    {
      "cell_type": "markdown",
      "source": [
        "For Loop Example"
      ],
      "metadata": {
        "id": "trH7TKjz7KQJ"
      }
    },
    {
      "cell_type": "code",
      "source": [
        "Close_Price_ABC = [300, 305, 287, 298, 335, 300, 297, 300, 295, 310]\n",
        "for i in Close_Price_ABC:\n",
        "  if i<300:\n",
        "    print(\"We Buy\")\n",
        "  if i ==300:\n",
        "    print(\"No new positions\")\n",
        "  if i > 300:\n",
        "    print(\"We sell\")\n",
        "\n",
        "print(\"we are now out of the loop\")"
      ],
      "metadata": {
        "colab": {
          "base_uri": "https://localhost:8080/"
        },
        "id": "QpqFADsc55dw",
        "outputId": "2171d8b1-09b6-4bcf-d861-e8e57ef1d1d9"
      },
      "execution_count": null,
      "outputs": [
        {
          "output_type": "stream",
          "name": "stdout",
          "text": [
            "No new positions\n",
            "We sell\n",
            "We Buy\n",
            "We Buy\n",
            "We sell\n",
            "No new positions\n",
            "We Buy\n",
            "No new positions\n",
            "We Buy\n",
            "We sell\n",
            "we are now out of the loop\n"
          ]
        }
      ]
    },
    {
      "cell_type": "markdown",
      "source": [
        "Range"
      ],
      "metadata": {
        "id": "5Yt5_ySz87QO"
      }
    },
    {
      "cell_type": "code",
      "source": [
        "a = range(2,12,2)\n",
        "print(list(a))"
      ],
      "metadata": {
        "colab": {
          "base_uri": "https://localhost:8080/"
        },
        "id": "b4ZVg1kh7oAv",
        "outputId": "8c1ba3a0-2cc7-4af0-e981-5e43b18143e0"
      },
      "execution_count": null,
      "outputs": [
        {
          "output_type": "stream",
          "name": "stdout",
          "text": [
            "[2, 4, 6, 8, 10]\n"
          ]
        }
      ]
    },
    {
      "cell_type": "markdown",
      "source": [
        "Activity: For loop(square numbers)"
      ],
      "metadata": {
        "id": "PNimiw_E9UeB"
      }
    },
    {
      "cell_type": "code",
      "source": [
        "a=[]\n",
        "for i in range (1,11):\n",
        "  a.append(i*i)\n",
        "print(a)"
      ],
      "metadata": {
        "colab": {
          "base_uri": "https://localhost:8080/"
        },
        "id": "SZQ7uRqR9AeM",
        "outputId": "614baf6f-51b4-4ddf-aaf7-80164046a6f2"
      },
      "execution_count": null,
      "outputs": [
        {
          "output_type": "stream",
          "name": "stdout",
          "text": [
            "[1, 4, 9, 16, 25, 36, 49, 64, 81, 100]\n"
          ]
        }
      ]
    },
    {
      "cell_type": "markdown",
      "source": [
        "Enumerate"
      ],
      "metadata": {
        "id": "nQEWpZzJ-LaX"
      }
    },
    {
      "cell_type": "code",
      "source": [
        "person=['alfred','ally','belinda']\n",
        "height=[170,160,155]\n",
        "for i,name in enumerate(person):\n",
        "  h=height[i]\n",
        "  print(\"the height of {} is {}cm\".format(name,h))"
      ],
      "metadata": {
        "colab": {
          "base_uri": "https://localhost:8080/"
        },
        "id": "AZs-XpWF9v1J",
        "outputId": "c8cb6d64-df7a-43e8-9bf5-7320c1732abb"
      },
      "execution_count": null,
      "outputs": [
        {
          "output_type": "stream",
          "name": "stdout",
          "text": [
            "the height of alfred is 170cm\n",
            "the height of ally is 160cm\n",
            "the height of belinda is 155cm\n"
          ]
        }
      ]
    },
    {
      "cell_type": "markdown",
      "source": [
        "Zip"
      ],
      "metadata": {
        "id": "PbPMgyyp_o3K"
      }
    },
    {
      "cell_type": "code",
      "source": [
        "person=['alfred','ally','belinda']\n",
        "height=[170,160,155]\n",
        "c=zip(person,height)\n",
        "for i,j in c:\n",
        "  print(f\"name:{i:8} Height:{j:8}cm\")\n",
        "#8 characters after name: and 8 characters after height:"
      ],
      "metadata": {
        "colab": {
          "base_uri": "https://localhost:8080/"
        },
        "id": "0anvecod-opC",
        "outputId": "f05d44b9-2832-422f-aff1-a723b9debb0d"
      },
      "execution_count": null,
      "outputs": [
        {
          "output_type": "stream",
          "name": "stdout",
          "text": [
            "name:alfred   Height:     170cm\n",
            "name:ally     Height:     160cm\n",
            "name:belinda  Height:     155cm\n"
          ]
        }
      ]
    },
    {
      "cell_type": "markdown",
      "source": [
        "Loop through multiple sequences"
      ],
      "metadata": {
        "id": "EiseVIh_BE-v"
      }
    },
    {
      "cell_type": "code",
      "source": [
        "year=['2017','2018','2019']\n",
        "revenue=[1500,2000,5000]\n",
        "expense=[9000,1000,2500]\n",
        "data=[year,revenue,expense]\n",
        "for y,r,e in data:\n",
        "  print (f\"{y}'s revenue is ${r} and expense ${e}\")\n",
        "\n"
      ],
      "metadata": {
        "colab": {
          "base_uri": "https://localhost:8080/"
        },
        "id": "jbzP6G-HBIDk",
        "outputId": "e6105a6f-b0f8-47f4-acab-d5c1a9f3a4a0"
      },
      "execution_count": null,
      "outputs": [
        {
          "output_type": "stream",
          "name": "stdout",
          "text": [
            "2017's revenue is $2018 and expense $2019\n",
            "1500's revenue is $2000 and expense $5000\n",
            "9000's revenue is $1000 and expense $2500\n"
          ]
        }
      ]
    },
    {
      "cell_type": "markdown",
      "source": [
        "List Comprehension"
      ],
      "metadata": {
        "id": "HGhIBTpOEYSC"
      }
    },
    {
      "cell_type": "code",
      "source": [
        "a=[i*i for i in range(1,11)]\n",
        "a"
      ],
      "metadata": {
        "colab": {
          "base_uri": "https://localhost:8080/"
        },
        "id": "M0xSL4hrEZnj",
        "outputId": "96336781-954f-4c9c-ef2a-40e78acb80fb"
      },
      "execution_count": null,
      "outputs": [
        {
          "output_type": "execute_result",
          "data": {
            "text/plain": [
              "[1, 4, 9, 16, 25, 36, 49, 64, 81, 100]"
            ]
          },
          "metadata": {},
          "execution_count": 33
        }
      ]
    },
    {
      "cell_type": "code",
      "source": [
        "a=[i*i for i in range(1,11) if i%2==0]\n",
        "a"
      ],
      "metadata": {
        "colab": {
          "base_uri": "https://localhost:8080/"
        },
        "id": "bUFEnrizEgEm",
        "outputId": "8bab2aef-7763-4652-eb70-18e6ba5e00c2"
      },
      "execution_count": null,
      "outputs": [
        {
          "output_type": "execute_result",
          "data": {
            "text/plain": [
              "[4, 16, 36, 64, 100]"
            ]
          },
          "metadata": {},
          "execution_count": 34
        }
      ]
    },
    {
      "cell_type": "code",
      "source": [
        "a={i*i for i in range(1,11)}\n",
        "a"
      ],
      "metadata": {
        "colab": {
          "base_uri": "https://localhost:8080/"
        },
        "id": "e3u67GE0ElqD",
        "outputId": "151cd604-3597-4239-8323-81feddbc630a"
      },
      "execution_count": null,
      "outputs": [
        {
          "output_type": "execute_result",
          "data": {
            "text/plain": [
              "{1, 4, 9, 16, 25, 36, 49, 64, 81, 100}"
            ]
          },
          "metadata": {},
          "execution_count": 37
        }
      ]
    },
    {
      "cell_type": "code",
      "source": [
        "a={i:i*i for i in range(1,11)}\n",
        "a"
      ],
      "metadata": {
        "colab": {
          "base_uri": "https://localhost:8080/"
        },
        "id": "Gz5EkPu3FPfS",
        "outputId": "439bed87-2d89-4501-8424-a509225075e4"
      },
      "execution_count": null,
      "outputs": [
        {
          "output_type": "execute_result",
          "data": {
            "text/plain": [
              "{1: 1, 2: 4, 3: 9, 4: 16, 5: 25, 6: 36, 7: 49, 8: 64, 9: 81, 10: 100}"
            ]
          },
          "metadata": {},
          "execution_count": 38
        }
      ]
    },
    {
      "cell_type": "markdown",
      "source": [
        "Activity: list comprehension"
      ],
      "metadata": {
        "id": "EjObGAUMG3eG"
      }
    },
    {
      "cell_type": "code",
      "source": [
        "a=[i**2 for i in range(1,19) if i%3!=0 and i%5!=0]\n",
        "a"
      ],
      "metadata": {
        "colab": {
          "base_uri": "https://localhost:8080/"
        },
        "id": "9To7CkZwFg8R",
        "outputId": "2d38dfb5-39d5-4a16-a2c1-d3bb738f0d43"
      },
      "execution_count": null,
      "outputs": [
        {
          "output_type": "execute_result",
          "data": {
            "text/plain": [
              "[1, 4, 16, 49, 64, 121, 169, 196, 256, 289]"
            ]
          },
          "metadata": {},
          "execution_count": 40
        }
      ]
    },
    {
      "cell_type": "code",
      "source": [
        "tuple(range(10,2,-1))\n"
      ],
      "metadata": {
        "id": "ZaXh_9a4GT12",
        "colab": {
          "base_uri": "https://localhost:8080/"
        },
        "outputId": "4f34f97e-181f-4b45-9413-74f7c80147d3"
      },
      "execution_count": null,
      "outputs": [
        {
          "output_type": "execute_result",
          "data": {
            "text/plain": [
              "(10, 9, 8, 7, 6, 5, 4, 3)"
            ]
          },
          "metadata": {},
          "execution_count": 1
        }
      ]
    },
    {
      "cell_type": "markdown",
      "source": [
        "#Topic 5: Functions"
      ],
      "metadata": {
        "id": "Dx3RmEzLsrFv"
      }
    },
    {
      "cell_type": "markdown",
      "source": [
        "Function example"
      ],
      "metadata": {
        "id": "JEJ9ECb1suDx"
      }
    },
    {
      "cell_type": "code",
      "source": [
        "def myFunction(x,n): #function definition with 2 inputs\n",
        "  output = x**n #store the formula x to the power of n in a variable called output\n",
        "\n",
        "  return output"
      ],
      "metadata": {
        "id": "EEsoOnTKoVcF"
      },
      "execution_count": null,
      "outputs": []
    },
    {
      "cell_type": "code",
      "source": [
        "myFunction(10,2)"
      ],
      "metadata": {
        "colab": {
          "base_uri": "https://localhost:8080/"
        },
        "id": "06sPSTZ0tMuM",
        "outputId": "1fc7166b-0f56-4565-9af2-fd9074cc2d2f"
      },
      "execution_count": null,
      "outputs": [
        {
          "output_type": "execute_result",
          "data": {
            "text/plain": [
              "100"
            ]
          },
          "metadata": {},
          "execution_count": 5
        }
      ]
    },
    {
      "cell_type": "markdown",
      "source": [
        "Activity:Function"
      ],
      "metadata": {
        "id": "qSntx9RwuIbI"
      }
    },
    {
      "cell_type": "code",
      "source": [
        "def FVal(PV, r, n):\n",
        "  FV=round(PV*((1+r)**n),2)\n",
        "  return FV\n",
        "\n",
        "print(FVal(1500,0.05,10))"
      ],
      "metadata": {
        "colab": {
          "base_uri": "https://localhost:8080/"
        },
        "id": "qHXJpy68tbCG",
        "outputId": "2d4e5d46-63ef-48eb-d199-ffe95536c616"
      },
      "execution_count": null,
      "outputs": [
        {
          "output_type": "stream",
          "name": "stdout",
          "text": [
            "2443.34\n"
          ]
        }
      ]
    },
    {
      "cell_type": "markdown",
      "source": [
        "Return Multiple Values (many outputs)"
      ],
      "metadata": {
        "id": "n1TbNIadwVLA"
      }
    },
    {
      "cell_type": "code",
      "source": [
        "def f(x):\n",
        "  return x,2*x\n",
        "print(f(8))"
      ],
      "metadata": {
        "colab": {
          "base_uri": "https://localhost:8080/"
        },
        "id": "ihxGL-I2u4fr",
        "outputId": "4da08cbc-f06f-40df-c648-d7e5f5540076"
      },
      "execution_count": null,
      "outputs": [
        {
          "output_type": "stream",
          "name": "stdout",
          "text": [
            "(8, 16)\n"
          ]
        }
      ]
    },
    {
      "cell_type": "markdown",
      "source": [
        "Activity: Multiple Return"
      ],
      "metadata": {
        "id": "XfZFf67Ewn4g"
      }
    },
    {
      "cell_type": "code",
      "source": [
        "income=input('what is your income?') #ask user to key in his/her salary info\n",
        "income=int(income) #convert input text into integer so that comparisons can be made\n",
        "if(income>8000): #make all necessary comparisons as conditions and ouputsa\n",
        "  print('High income')\n",
        "elif(income>4000 and income<=8000):\n",
        "  print('Medium High Income')\n",
        "elif(income>2000 and income<=4000):\n",
        "  print('Medium Income')\n",
        "elif(income>1000 and income<=2000):\n",
        "  print('Medium Low Income')\n",
        "else:\n",
        "  print('Low income')"
      ],
      "metadata": {
        "colab": {
          "base_uri": "https://localhost:8080/"
        },
        "id": "a5NEdlWmwc5o",
        "outputId": "b5f3b9e7-cf41-4897-831f-10b3d04a88cc"
      },
      "execution_count": null,
      "outputs": [
        {
          "output_type": "stream",
          "name": "stdout",
          "text": [
            "what is your income?10000\n",
            "High income\n"
          ]
        }
      ]
    },
    {
      "cell_type": "markdown",
      "source": [
        "Activity: Function"
      ],
      "metadata": {
        "id": "ZRmx07DNzl2d"
      }
    },
    {
      "cell_type": "code",
      "source": [
        "def discountNtax(order): #function definition with single input\n",
        "  discount=25 if order>200 else 0 #ternary operator\n",
        "  disc_amt=discount*order/100 #formula 1\n",
        "  format_disc=\"{:.2f}\".format(disc_amt) #formatted formula 1\n",
        "  tax=0.07*(order-disc_amt) #formula 2\n",
        "  format_tax=\"{:.2f}\".format(tax) #formatted formula 2\n",
        "  print(\"Discount amount:\", format_disc) #output 1\n",
        "  print(\"tax is:\", format_tax) #output 2\n",
        "discountNtax(300) #function call\n",
        "#above is a 1-many function"
      ],
      "metadata": {
        "colab": {
          "base_uri": "https://localhost:8080/"
        },
        "id": "4-HkkdQQzkGu",
        "outputId": "2101a456-e312-4cd9-e7f1-d277acee32ac"
      },
      "execution_count": null,
      "outputs": [
        {
          "output_type": "stream",
          "name": "stdout",
          "text": [
            "Discount amount: 75.00\n",
            "tax is: 15.75\n"
          ]
        }
      ]
    },
    {
      "cell_type": "markdown",
      "source": [
        "Multiple Arguments/Inputs/Parameters"
      ],
      "metadata": {
        "id": "ZNmXxR8-3gIu"
      }
    },
    {
      "cell_type": "markdown",
      "source": [
        "Default Arguments"
      ],
      "metadata": {
        "id": "R2Bouw5y8ZUP"
      }
    },
    {
      "cell_type": "code",
      "source": [
        "def f(x,y): #indented formula #function definition with def prefix and 2 inputs\n",
        "  z=x+y\n",
        "  return z\n",
        "print(f(2,3))"
      ],
      "metadata": {
        "colab": {
          "base_uri": "https://localhost:8080/"
        },
        "id": "XDb130Ch1giH",
        "outputId": "b1703b07-6a38-4596-e147-50dd2a665408"
      },
      "execution_count": null,
      "outputs": [
        {
          "output_type": "stream",
          "name": "stdout",
          "text": [
            "5\n"
          ]
        }
      ]
    },
    {
      "cell_type": "code",
      "source": [
        "def f(a=3,b=5):\n",
        "  return a*b\n",
        "print(f())"
      ],
      "metadata": {
        "colab": {
          "base_uri": "https://localhost:8080/"
        },
        "id": "a43p7nDM37bp",
        "outputId": "3d44dcda-b0be-4f8e-e905-49b28701c7b0"
      },
      "execution_count": null,
      "outputs": [
        {
          "output_type": "stream",
          "name": "stdout",
          "text": [
            "15\n"
          ]
        }
      ]
    },
    {
      "cell_type": "code",
      "source": [
        "def f(a=3,b=5):\n",
        "  return a*b\n",
        "print(f(a=4))"
      ],
      "metadata": {
        "colab": {
          "base_uri": "https://localhost:8080/"
        },
        "id": "ONtRiBfJ7k2C",
        "outputId": "f9c17bc4-ec6a-4620-9290-35861972d438"
      },
      "execution_count": null,
      "outputs": [
        {
          "output_type": "stream",
          "name": "stdout",
          "text": [
            "20\n"
          ]
        }
      ]
    },
    {
      "cell_type": "markdown",
      "source": [
        "Variable Arguments"
      ],
      "metadata": {
        "id": "O9vUVrzV9VVQ"
      }
    },
    {
      "cell_type": "code",
      "source": [
        "def sum(*b): #* shows that the variable keeps changing. there will be multiple arguments\n",
        "  sum=0\n",
        "  for i in b:\n",
        "    sum=sum+i\n",
        "  return sum\n",
        "sum(1,2,3)"
      ],
      "metadata": {
        "colab": {
          "base_uri": "https://localhost:8080/"
        },
        "id": "5fzj2RWW8jFI",
        "outputId": "b4cfbf49-2ce8-4eab-9197-016efe0d584f"
      },
      "execution_count": null,
      "outputs": [
        {
          "output_type": "execute_result",
          "data": {
            "text/plain": [
              "6"
            ]
          },
          "metadata": {},
          "execution_count": 18
        }
      ]
    },
    {
      "cell_type": "code",
      "source": [
        "b=[23,24,20,22,25]\n",
        "\n",
        "def minVal():\n",
        "  m=b[0]\n",
        "\n",
        "  for i in b:\n",
        "    if i<m:\n",
        "      m=i\n",
        "    print(m)\n",
        "  minVal()"
      ],
      "metadata": {
        "id": "3XMBJ8KZ9QlL"
      },
      "execution_count": null,
      "outputs": []
    },
    {
      "cell_type": "markdown",
      "source": [
        "Lambda Function examples"
      ],
      "metadata": {
        "id": "kDYmhlxqBTLN"
      }
    },
    {
      "cell_type": "code",
      "source": [
        "sum=lambda x,y:x+y\n",
        "sum(2,3)"
      ],
      "metadata": {
        "colab": {
          "base_uri": "https://localhost:8080/"
        },
        "id": "r4aE6O6Q_mf-",
        "outputId": "ceeb45c7-e72d-445b-cf8c-78d39087aa75"
      },
      "execution_count": null,
      "outputs": [
        {
          "output_type": "execute_result",
          "data": {
            "text/plain": [
              "5"
            ]
          },
          "metadata": {},
          "execution_count": 20
        }
      ]
    },
    {
      "cell_type": "code",
      "source": [
        "product=lambda x,y: x*y\n",
        "product(2,3)"
      ],
      "metadata": {
        "colab": {
          "base_uri": "https://localhost:8080/"
        },
        "id": "NNOtw9UWBbfi",
        "outputId": "adf1f92f-81b4-4740-a667-e77cf224d466"
      },
      "execution_count": null,
      "outputs": [
        {
          "output_type": "execute_result",
          "data": {
            "text/plain": [
              "6"
            ]
          },
          "metadata": {},
          "execution_count": 21
        }
      ]
    },
    {
      "cell_type": "code",
      "source": [
        "my_operation = lambda x,y,z:x+y-z\n",
        "my_operation(10,20,30)"
      ],
      "metadata": {
        "colab": {
          "base_uri": "https://localhost:8080/"
        },
        "id": "i0PCBebCBue4",
        "outputId": "6553563f-8ecc-4a11-ccba-6583cb96639b"
      },
      "execution_count": null,
      "outputs": [
        {
          "output_type": "execute_result",
          "data": {
            "text/plain": [
              "0"
            ]
          },
          "metadata": {},
          "execution_count": 22
        }
      ]
    },
    {
      "cell_type": "markdown",
      "source": [
        "Activity: Lambda"
      ],
      "metadata": {
        "id": "hxfWuOeGDcnx"
      }
    },
    {
      "cell_type": "code",
      "source": [
        "f=lambda x,y:10*x+y\n",
        "def g(f,x,y=0):\n",
        "  return f(x,y)\n",
        "print (g(f,4)) #x=4, y=0 => 10*4 +0"
      ],
      "metadata": {
        "id": "3VzUlYi-B0sw"
      },
      "execution_count": null,
      "outputs": []
    },
    {
      "cell_type": "code",
      "source": [
        "def f(x=3,y):\n",
        "  return x*y\n",
        "print(f(4))"
      ],
      "metadata": {
        "id": "qyS61KFUDfqO"
      },
      "execution_count": null,
      "outputs": []
    },
    {
      "cell_type": "code",
      "source": [
        "list_1=[1,2,3,4]\n",
        "list_2=[10,20,30,40]\n",
        "list(map(lambda x,y: x+y, list_1, list_2))"
      ],
      "metadata": {
        "colab": {
          "base_uri": "https://localhost:8080/"
        },
        "id": "Ocec2RUtEvuP",
        "outputId": "9e87b5da-eb0b-459c-bc6c-341193da176e"
      },
      "execution_count": null,
      "outputs": [
        {
          "output_type": "execute_result",
          "data": {
            "text/plain": [
              "[11, 22, 33, 44]"
            ]
          },
          "metadata": {},
          "execution_count": 25
        }
      ]
    },
    {
      "cell_type": "code",
      "source": [
        "list_1=[0,1,2,3]\n",
        "list_2=[2,4,6,8]\n",
        "list(map(lambda x,y: 10*x+y, list_1, list_2))"
      ],
      "metadata": {
        "colab": {
          "base_uri": "https://localhost:8080/"
        },
        "id": "mluyOo9lFCZt",
        "outputId": "73b77db8-e84b-4842-d39f-f82201fdefa6"
      },
      "execution_count": null,
      "outputs": [
        {
          "output_type": "execute_result",
          "data": {
            "text/plain": [
              "[2, 14, 26, 38]"
            ]
          },
          "metadata": {},
          "execution_count": 26
        }
      ]
    },
    {
      "cell_type": "markdown",
      "source": [
        "Filter Examples"
      ],
      "metadata": {
        "id": "yvXBMTejHrV_"
      }
    },
    {
      "cell_type": "code",
      "source": [
        "fib=[0,1,1,2,3,5,8,13,21,34,55]\n",
        "list(filter(lambda x: x>8, fib))"
      ],
      "metadata": {
        "colab": {
          "base_uri": "https://localhost:8080/"
        },
        "id": "4Hqp5aZ2F3p0",
        "outputId": "e23aa76c-71f4-4101-9bd3-b4bb59f1e3c3"
      },
      "execution_count": null,
      "outputs": [
        {
          "output_type": "execute_result",
          "data": {
            "text/plain": [
              "[13, 21, 34, 55]"
            ]
          },
          "metadata": {},
          "execution_count": 27
        }
      ]
    },
    {
      "cell_type": "code",
      "source": [
        "fib=[0,1,-4,2,-6,3]\n",
        "list(filter(lambda x: x>=0, fib))"
      ],
      "metadata": {
        "colab": {
          "base_uri": "https://localhost:8080/"
        },
        "id": "M4g5buT-H4Pf",
        "outputId": "4ecc208c-f891-436d-b659-a198fb23a340"
      },
      "execution_count": null,
      "outputs": [
        {
          "output_type": "execute_result",
          "data": {
            "text/plain": [
              "[0, 1, 2, 3]"
            ]
          },
          "metadata": {},
          "execution_count": 30
        }
      ]
    },
    {
      "cell_type": "markdown",
      "source": [
        "#Topic 6: Modules and Packages"
      ],
      "metadata": {
        "id": "WO_BcHEMKNDn"
      }
    },
    {
      "cell_type": "markdown",
      "source": [
        "Import standard module and use its functions"
      ],
      "metadata": {
        "id": "SEsTULw_KZNZ"
      }
    },
    {
      "cell_type": "code",
      "source": [
        "import math\n",
        "p=math.sin(0.5)\n",
        "print(p)"
      ],
      "metadata": {
        "colab": {
          "base_uri": "https://localhost:8080/"
        },
        "id": "0HSxo_jlIGeB",
        "outputId": "77f792a0-77ee-4851-d5fb-4f60a76ee1ee"
      },
      "execution_count": null,
      "outputs": [
        {
          "output_type": "stream",
          "name": "stdout",
          "text": [
            "0.479425538604203\n"
          ]
        }
      ]
    },
    {
      "cell_type": "markdown",
      "source": [
        "Abbreviating a module name"
      ],
      "metadata": {
        "id": "qco3m4InKy5p"
      }
    },
    {
      "cell_type": "code",
      "source": [
        "import math as m\n",
        "p=m.sin(0.5)\n",
        "print(p)"
      ],
      "metadata": {
        "colab": {
          "base_uri": "https://localhost:8080/"
        },
        "id": "ssgp-BACKhHS",
        "outputId": "0cb32520-e8a0-4b40-9321-cba990b29fd2"
      },
      "execution_count": null,
      "outputs": [
        {
          "output_type": "stream",
          "name": "stdout",
          "text": [
            "0.479425538604203\n"
          ]
        }
      ]
    },
    {
      "cell_type": "markdown",
      "source": [
        "Time Module(standard package)"
      ],
      "metadata": {
        "id": "mF9LvZzFLvM4"
      }
    },
    {
      "cell_type": "code",
      "source": [
        "import time\n",
        "\n",
        "print(\"printed immediately\")\n",
        "time.sleep(5)\n",
        "print(\"printed after 5 seconds\")"
      ],
      "metadata": {
        "colab": {
          "base_uri": "https://localhost:8080/"
        },
        "id": "1YHZFJkxK7T2",
        "outputId": "8f6460d2-5d86-45b0-eac2-59ac9495552c"
      },
      "execution_count": null,
      "outputs": [
        {
          "output_type": "stream",
          "name": "stdout",
          "text": [
            "printed immediately\n",
            "printed after 5 seconds\n"
          ]
        }
      ]
    },
    {
      "cell_type": "markdown",
      "source": [
        "Random Module"
      ],
      "metadata": {
        "id": "LKEFFvBQMKt7"
      }
    },
    {
      "cell_type": "code",
      "source": [
        "import random\n",
        "dice=random.choice([1,2,3,4,5,6])\n",
        "print(dice)"
      ],
      "metadata": {
        "colab": {
          "base_uri": "https://localhost:8080/"
        },
        "id": "PLomCD81LffD",
        "outputId": "52c0c8b8-bb31-48dd-9202-9701e32769a7"
      },
      "execution_count": null,
      "outputs": [
        {
          "output_type": "stream",
          "name": "stdout",
          "text": [
            "4\n"
          ]
        }
      ]
    },
    {
      "cell_type": "markdown",
      "source": [
        "Import Stock Data from CSV File"
      ],
      "metadata": {
        "id": "KeYYfx6Ef9da"
      }
    },
    {
      "cell_type": "code",
      "source": [
        "import pandas as pd\n",
        "stock=pd.read_csv('https://raw.githubusercontent.com/tertiarycourses/datasets/master/Singtel.csv')\n",
        "stock.head()"
      ],
      "metadata": {
        "colab": {
          "base_uri": "https://localhost:8080/",
          "height": 206
        },
        "id": "GTzq-yX2MSRW",
        "outputId": "4a62a6fa-a7da-4300-d324-3cc521edef6c"
      },
      "execution_count": null,
      "outputs": [
        {
          "output_type": "execute_result",
          "data": {
            "text/plain": [
              "         Date  Open  High   Low  Close  Adj Close    Volume\n",
              "0  2021-01-25  2.47  2.49  2.45   2.45       2.45  21930300\n",
              "1  2021-01-26  2.46  2.46  2.41   2.43       2.43  23661900\n",
              "2  2021-01-27  2.43  2.43  2.38   2.40       2.40  27738300\n",
              "3  2021-01-28  2.39  2.39  2.36   2.38       2.38  32945400\n",
              "4  2021-01-29  2.38  2.39  2.35   2.36       2.36  38185600"
            ],
            "text/html": [
              "\n",
              "  <div id=\"df-429b01df-8ef2-492e-bf78-255ea2639377\">\n",
              "    <div class=\"colab-df-container\">\n",
              "      <div>\n",
              "<style scoped>\n",
              "    .dataframe tbody tr th:only-of-type {\n",
              "        vertical-align: middle;\n",
              "    }\n",
              "\n",
              "    .dataframe tbody tr th {\n",
              "        vertical-align: top;\n",
              "    }\n",
              "\n",
              "    .dataframe thead th {\n",
              "        text-align: right;\n",
              "    }\n",
              "</style>\n",
              "<table border=\"1\" class=\"dataframe\">\n",
              "  <thead>\n",
              "    <tr style=\"text-align: right;\">\n",
              "      <th></th>\n",
              "      <th>Date</th>\n",
              "      <th>Open</th>\n",
              "      <th>High</th>\n",
              "      <th>Low</th>\n",
              "      <th>Close</th>\n",
              "      <th>Adj Close</th>\n",
              "      <th>Volume</th>\n",
              "    </tr>\n",
              "  </thead>\n",
              "  <tbody>\n",
              "    <tr>\n",
              "      <th>0</th>\n",
              "      <td>2021-01-25</td>\n",
              "      <td>2.47</td>\n",
              "      <td>2.49</td>\n",
              "      <td>2.45</td>\n",
              "      <td>2.45</td>\n",
              "      <td>2.45</td>\n",
              "      <td>21930300</td>\n",
              "    </tr>\n",
              "    <tr>\n",
              "      <th>1</th>\n",
              "      <td>2021-01-26</td>\n",
              "      <td>2.46</td>\n",
              "      <td>2.46</td>\n",
              "      <td>2.41</td>\n",
              "      <td>2.43</td>\n",
              "      <td>2.43</td>\n",
              "      <td>23661900</td>\n",
              "    </tr>\n",
              "    <tr>\n",
              "      <th>2</th>\n",
              "      <td>2021-01-27</td>\n",
              "      <td>2.43</td>\n",
              "      <td>2.43</td>\n",
              "      <td>2.38</td>\n",
              "      <td>2.40</td>\n",
              "      <td>2.40</td>\n",
              "      <td>27738300</td>\n",
              "    </tr>\n",
              "    <tr>\n",
              "      <th>3</th>\n",
              "      <td>2021-01-28</td>\n",
              "      <td>2.39</td>\n",
              "      <td>2.39</td>\n",
              "      <td>2.36</td>\n",
              "      <td>2.38</td>\n",
              "      <td>2.38</td>\n",
              "      <td>32945400</td>\n",
              "    </tr>\n",
              "    <tr>\n",
              "      <th>4</th>\n",
              "      <td>2021-01-29</td>\n",
              "      <td>2.38</td>\n",
              "      <td>2.39</td>\n",
              "      <td>2.35</td>\n",
              "      <td>2.36</td>\n",
              "      <td>2.36</td>\n",
              "      <td>38185600</td>\n",
              "    </tr>\n",
              "  </tbody>\n",
              "</table>\n",
              "</div>\n",
              "      <button class=\"colab-df-convert\" onclick=\"convertToInteractive('df-429b01df-8ef2-492e-bf78-255ea2639377')\"\n",
              "              title=\"Convert this dataframe to an interactive table.\"\n",
              "              style=\"display:none;\">\n",
              "        \n",
              "  <svg xmlns=\"http://www.w3.org/2000/svg\" height=\"24px\"viewBox=\"0 0 24 24\"\n",
              "       width=\"24px\">\n",
              "    <path d=\"M0 0h24v24H0V0z\" fill=\"none\"/>\n",
              "    <path d=\"M18.56 5.44l.94 2.06.94-2.06 2.06-.94-2.06-.94-.94-2.06-.94 2.06-2.06.94zm-11 1L8.5 8.5l.94-2.06 2.06-.94-2.06-.94L8.5 2.5l-.94 2.06-2.06.94zm10 10l.94 2.06.94-2.06 2.06-.94-2.06-.94-.94-2.06-.94 2.06-2.06.94z\"/><path d=\"M17.41 7.96l-1.37-1.37c-.4-.4-.92-.59-1.43-.59-.52 0-1.04.2-1.43.59L10.3 9.45l-7.72 7.72c-.78.78-.78 2.05 0 2.83L4 21.41c.39.39.9.59 1.41.59.51 0 1.02-.2 1.41-.59l7.78-7.78 2.81-2.81c.8-.78.8-2.07 0-2.86zM5.41 20L4 18.59l7.72-7.72 1.47 1.35L5.41 20z\"/>\n",
              "  </svg>\n",
              "      </button>\n",
              "      \n",
              "  <style>\n",
              "    .colab-df-container {\n",
              "      display:flex;\n",
              "      flex-wrap:wrap;\n",
              "      gap: 12px;\n",
              "    }\n",
              "\n",
              "    .colab-df-convert {\n",
              "      background-color: #E8F0FE;\n",
              "      border: none;\n",
              "      border-radius: 50%;\n",
              "      cursor: pointer;\n",
              "      display: none;\n",
              "      fill: #1967D2;\n",
              "      height: 32px;\n",
              "      padding: 0 0 0 0;\n",
              "      width: 32px;\n",
              "    }\n",
              "\n",
              "    .colab-df-convert:hover {\n",
              "      background-color: #E2EBFA;\n",
              "      box-shadow: 0px 1px 2px rgba(60, 64, 67, 0.3), 0px 1px 3px 1px rgba(60, 64, 67, 0.15);\n",
              "      fill: #174EA6;\n",
              "    }\n",
              "\n",
              "    [theme=dark] .colab-df-convert {\n",
              "      background-color: #3B4455;\n",
              "      fill: #D2E3FC;\n",
              "    }\n",
              "\n",
              "    [theme=dark] .colab-df-convert:hover {\n",
              "      background-color: #434B5C;\n",
              "      box-shadow: 0px 1px 3px 1px rgba(0, 0, 0, 0.15);\n",
              "      filter: drop-shadow(0px 1px 2px rgba(0, 0, 0, 0.3));\n",
              "      fill: #FFFFFF;\n",
              "    }\n",
              "  </style>\n",
              "\n",
              "      <script>\n",
              "        const buttonEl =\n",
              "          document.querySelector('#df-429b01df-8ef2-492e-bf78-255ea2639377 button.colab-df-convert');\n",
              "        buttonEl.style.display =\n",
              "          google.colab.kernel.accessAllowed ? 'block' : 'none';\n",
              "\n",
              "        async function convertToInteractive(key) {\n",
              "          const element = document.querySelector('#df-429b01df-8ef2-492e-bf78-255ea2639377');\n",
              "          const dataTable =\n",
              "            await google.colab.kernel.invokeFunction('convertToInteractive',\n",
              "                                                     [key], {});\n",
              "          if (!dataTable) return;\n",
              "\n",
              "          const docLinkHtml = 'Like what you see? Visit the ' +\n",
              "            '<a target=\"_blank\" href=https://colab.research.google.com/notebooks/data_table.ipynb>data table notebook</a>'\n",
              "            + ' to learn more about interactive tables.';\n",
              "          element.innerHTML = '';\n",
              "          dataTable['output_type'] = 'display_data';\n",
              "          await google.colab.output.renderOutput(dataTable, element);\n",
              "          const docLink = document.createElement('div');\n",
              "          docLink.innerHTML = docLinkHtml;\n",
              "          element.appendChild(docLink);\n",
              "        }\n",
              "      </script>\n",
              "    </div>\n",
              "  </div>\n",
              "  "
            ]
          },
          "metadata": {},
          "execution_count": 3
        }
      ]
    },
    {
      "cell_type": "code",
      "source": [
        "import pandas as pd\n",
        "import matplotlib.pyplot as plt\n",
        "stock=pd.read_csv('https://raw.githubusercontent.com/tertiarycourses/datasets/master/Singtel.csv')\n",
        "stock_close=stock[['Close']]\n",
        "plt.plot(stock_close, 'b')\n",
        "plt.plot(stock_close, 'r^')\n",
        "plt.title('Singtel Close Price representation')\n",
        "plt.xlabel('Trading Days')\n",
        "plt.ylabel('Close Price')"
      ],
      "metadata": {
        "colab": {
          "base_uri": "https://localhost:8080/",
          "height": 312
        },
        "id": "bd-WNl2zewaM",
        "outputId": "fde07a4c-552e-48fa-a37e-0c93259eff62"
      },
      "execution_count": null,
      "outputs": [
        {
          "output_type": "execute_result",
          "data": {
            "text/plain": [
              "Text(0, 0.5, 'Close Price')"
            ]
          },
          "metadata": {},
          "execution_count": 5
        },
        {
          "output_type": "display_data",
          "data": {
            "text/plain": [
              "<Figure size 432x288 with 1 Axes>"
            ],
            "image/png": "[encoded data removed]"
          },
          "metadata": {
            "needs_background": "light"
          }
        }
      ]
    },
    {
      "cell_type": "code",
      "source": [
        "!pip install yfinance\n",
        "import yfinance as yf\n",
        "stock=yf.download\n",
        "import pandas as pd\n",
        "stock=pd.read_csv('https://raw.githubusercontent.com/tertiarycourses/datasets/master/Singtel.csv')\n",
        "stock_close=stock[['Close']]\n",
        "plt.plot(stock_close, 'b')\n",
        "plt.plot(stock_close, 'ro')\n",
        "plt.title('Singtel Close Price representation')\n",
        "plt.xlabel('Trading Days')\n",
        "plt.ylabel('Close Price')"
      ],
      "metadata": {
        "colab": {
          "base_uri": "https://localhost:8080/",
          "height": 729
        },
        "id": "KWtvSlijhwU7",
        "outputId": "e0b14d1d-b493-42e3-a10b-946307911d0e"
      },
      "execution_count": null,
      "outputs": [
        {
          "output_type": "stream",
          "name": "stdout",
          "text": [
            "Looking in indexes: https://pypi.org/simple, https://us-python.pkg.dev/colab-wheels/public/simple/\n",
            "Collecting yfinance\n",
            "  Downloading yfinance-0.1.90-py2.py3-none-any.whl (29 kB)\n",
            "Requirement already satisfied: lxml>=4.9.1 in /usr/local/lib/python3.8/dist-packages (from yfinance) (4.9.1)\n",
            "Collecting requests>=2.26\n",
            "  Downloading requests-2.28.1-py3-none-any.whl (62 kB)\n",
            "\u001b[K     |████████████████████████████████| 62 kB 1.3 MB/s \n",
            "\u001b[?25hRequirement already satisfied: pandas>=1.3.0 in /usr/local/lib/python3.8/dist-packages (from yfinance) (1.3.5)\n",
            "Requirement already satisfied: multitasking>=0.0.7 in /usr/local/lib/python3.8/dist-packages (from yfinance) (0.0.11)\n",
            "Requirement already satisfied: appdirs>=1.4.4 in /usr/local/lib/python3.8/dist-packages (from yfinance) (1.4.4)\n",
            "Requirement already satisfied: numpy>=1.16.5 in /usr/local/lib/python3.8/dist-packages (from yfinance) (1.21.6)\n",
            "Requirement already satisfied: pytz>=2017.3 in /usr/local/lib/python3.8/dist-packages (from pandas>=1.3.0->yfinance) (2022.6)\n",
            "Requirement already satisfied: python-dateutil>=2.7.3 in /usr/local/lib/python3.8/dist-packages (from pandas>=1.3.0->yfinance) (2.8.2)\n",
            "Requirement already satisfied: six>=1.5 in /usr/local/lib/python3.8/dist-packages (from python-dateutil>=2.7.3->pandas>=1.3.0->yfinance) (1.15.0)\n",
            "Requirement already satisfied: urllib3<1.27,>=1.21.1 in /usr/local/lib/python3.8/dist-packages (from requests>=2.26->yfinance) (1.24.3)\n",
            "Requirement already satisfied: idna<4,>=2.5 in /usr/local/lib/python3.8/dist-packages (from requests>=2.26->yfinance) (2.10)\n",
            "Requirement already satisfied: certifi>=2017.4.17 in /usr/local/lib/python3.8/dist-packages (from requests>=2.26->yfinance) (2022.9.24)\n",
            "Requirement already satisfied: charset-normalizer<3,>=2 in /usr/local/lib/python3.8/dist-packages (from requests>=2.26->yfinance) (2.1.1)\n",
            "Installing collected packages: requests, yfinance\n",
            "  Attempting uninstall: requests\n",
            "    Found existing installation: requests 2.23.0\n",
            "    Uninstalling requests-2.23.0:\n",
            "      Successfully uninstalled requests-2.23.0\n",
            "Successfully installed requests-2.28.1 yfinance-0.1.90\n"
          ]
        },
        {
          "output_type": "execute_result",
          "data": {
            "text/plain": [
              "Text(0, 0.5, 'Close Price')"
            ]
          },
          "metadata": {},
          "execution_count": 6
        },
        {
          "output_type": "display_data",
          "data": {
            "text/plain": [
              "<Figure size 432x288 with 1 Axes>"
            ],
            "image/png": "[encoded data removed]"
          },
          "metadata": {
            "needs_background": "light"
          }
        }
      ]
    },
    {
      "cell_type": "markdown",
      "source": [
        "#Practice Session"
      ],
      "metadata": {
        "id": "tjgzmRs5oLam"
      }
    },
    {
      "cell_type": "code",
      "source": [
        "Name=input('Name= ') #ask user to key in his/her salary info\n",
        "Age=int(input('Age= ')) #ask user to key in his/her salary info\n",
        "dt=float(input('Distance Traveled= ')) #ask user to key in his/her salary info\n",
        "\n",
        "if(dt<=5): #make all necessary comparisons as conditions and ouputsa\n",
        "  dt=dt*2\n",
        "elif(dt>5 and dt<=10):\n",
        "  dt=dt*1.5\n",
        "elif(dt>10):\n",
        "  dt=dt*1\n",
        "\n",
        "tv=3+2+dt\n",
        "\n",
        "if (Age>=60):\n",
        "  tv=tv*0.9\n",
        "\n",
        "print(Name, \"your taxi fare is\", \"{:.1f}\".format(tv))"
      ],
      "metadata": {
        "colab": {
          "base_uri": "https://localhost:8080/"
        },
        "id": "EkElucnXiedX",
        "outputId": "00be5dea-a2fc-42ac-89a4-bdfaf42fbb70"
      },
      "execution_count": null,
      "outputs": [
        {
          "output_type": "stream",
          "name": "stdout",
          "text": [
            "Name= alfred\n",
            "Age= 60\n",
            "Distance Traveled= 10\n",
            "alfred your taxi fare is 18.0\n"
          ]
        }
      ]
    },
    {
      "cell_type": "markdown",
      "source": [
        "#assessment preparation"
      ],
      "metadata": {
        "id": "VX459Fru4UWe"
      }
    },
    {
      "cell_type": "code",
      "source": [
        "dc=range(10,2,-3)\n",
        "print(list(dc))"
      ],
      "metadata": {
        "colab": {
          "base_uri": "https://localhost:8080/"
        },
        "id": "lMiZt3W4sUp-",
        "outputId": "9bd32877-86f2-4b3c-bcec-3f4a6069c649"
      },
      "execution_count": null,
      "outputs": [
        {
          "output_type": "stream",
          "name": "stdout",
          "text": [
            "[10, 7, 4]\n"
          ]
        }
      ]
    },
    {
      "cell_type": "code",
      "source": [],
      "metadata": {
        "id": "X_HAv7Tb4Zl6"
      },
      "execution_count": null,
      "outputs": []
    }
  ]
}